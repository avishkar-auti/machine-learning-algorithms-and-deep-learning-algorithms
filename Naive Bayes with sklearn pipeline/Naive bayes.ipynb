{
 "cells": [
  {
   "cell_type": "markdown",
   "id": "0169bb74",
   "metadata": {},
   "source": [
    "<div class= \"alert alert-info\" role=\"alert\">\n",
    "    <p style=\"text-align:center\">\n",
    "    </a>\n",
    "</p>   \n",
    " <h1><center>Naive bayes</center></h1>\n",
    "<hr></hr>\n",
    "</div>"
   ]
  },
  {
   "cell_type": "markdown",
   "id": "2f49c1c5",
   "metadata": {
    "papermill": {
     "duration": 0.009185,
     "end_time": "2023-02-22T15:00:46.759655",
     "exception": false,
     "start_time": "2023-02-22T15:00:46.750470",
     "status": "completed"
    },
    "tags": []
   },
   "source": [
    "## Import required libraries and Data"
   ]
  },
  {
   "cell_type": "code",
   "execution_count": 1,
   "id": "bcf6f4b0",
   "metadata": {
    "execution": {
     "iopub.execute_input": "2023-02-22T15:00:46.782672Z",
     "iopub.status.busy": "2023-02-22T15:00:46.782076Z",
     "iopub.status.idle": "2023-02-22T15:00:47.943766Z",
     "shell.execute_reply": "2023-02-22T15:00:47.941171Z"
    },
    "papermill": {
     "duration": 1.177597,
     "end_time": "2023-02-22T15:00:47.947364",
     "exception": false,
     "start_time": "2023-02-22T15:00:46.769767",
     "status": "completed"
    },
    "tags": []
   },
   "outputs": [],
   "source": [
    "import pandas as pd\n",
    "import numpy as np\n",
    "\n",
    "import matplotlib.pyplot as plt\n",
    "import seaborn as sns"
   ]
  },
  {
   "cell_type": "code",
   "execution_count": 2,
   "id": "1ed4ebab",
   "metadata": {
    "execution": {
     "iopub.execute_input": "2023-02-22T15:00:47.968730Z",
     "iopub.status.busy": "2023-02-22T15:00:47.968262Z",
     "iopub.status.idle": "2023-02-22T15:00:48.056377Z",
     "shell.execute_reply": "2023-02-22T15:00:48.055009Z"
    },
    "papermill": {
     "duration": 0.102645,
     "end_time": "2023-02-22T15:00:48.059639",
     "exception": false,
     "start_time": "2023-02-22T15:00:47.956994",
     "status": "completed"
    },
    "tags": []
   },
   "outputs": [
    {
     "data": {
      "text/html": [
       "<div>\n",
       "<style scoped>\n",
       "    .dataframe tbody tr th:only-of-type {\n",
       "        vertical-align: middle;\n",
       "    }\n",
       "\n",
       "    .dataframe tbody tr th {\n",
       "        vertical-align: top;\n",
       "    }\n",
       "\n",
       "    .dataframe thead th {\n",
       "        text-align: right;\n",
       "    }\n",
       "</style>\n",
       "<table border=\"1\" class=\"dataframe\">\n",
       "  <thead>\n",
       "    <tr style=\"text-align: right;\">\n",
       "      <th></th>\n",
       "      <th>v1</th>\n",
       "      <th>v2</th>\n",
       "      <th>Unnamed: 2</th>\n",
       "      <th>Unnamed: 3</th>\n",
       "      <th>Unnamed: 4</th>\n",
       "    </tr>\n",
       "  </thead>\n",
       "  <tbody>\n",
       "    <tr>\n",
       "      <th>0</th>\n",
       "      <td>ham</td>\n",
       "      <td>Go until jurong point, crazy.. Available only ...</td>\n",
       "      <td>NaN</td>\n",
       "      <td>NaN</td>\n",
       "      <td>NaN</td>\n",
       "    </tr>\n",
       "    <tr>\n",
       "      <th>1</th>\n",
       "      <td>ham</td>\n",
       "      <td>Ok lar... Joking wif u oni...</td>\n",
       "      <td>NaN</td>\n",
       "      <td>NaN</td>\n",
       "      <td>NaN</td>\n",
       "    </tr>\n",
       "    <tr>\n",
       "      <th>2</th>\n",
       "      <td>spam</td>\n",
       "      <td>Free entry in 2 a wkly comp to win FA Cup fina...</td>\n",
       "      <td>NaN</td>\n",
       "      <td>NaN</td>\n",
       "      <td>NaN</td>\n",
       "    </tr>\n",
       "    <tr>\n",
       "      <th>3</th>\n",
       "      <td>ham</td>\n",
       "      <td>U dun say so early hor... U c already then say...</td>\n",
       "      <td>NaN</td>\n",
       "      <td>NaN</td>\n",
       "      <td>NaN</td>\n",
       "    </tr>\n",
       "    <tr>\n",
       "      <th>4</th>\n",
       "      <td>ham</td>\n",
       "      <td>Nah I don't think he goes to usf, he lives aro...</td>\n",
       "      <td>NaN</td>\n",
       "      <td>NaN</td>\n",
       "      <td>NaN</td>\n",
       "    </tr>\n",
       "  </tbody>\n",
       "</table>\n",
       "</div>"
      ],
      "text/plain": [
       "     v1                                                 v2 Unnamed: 2  \\\n",
       "0   ham  Go until jurong point, crazy.. Available only ...        NaN   \n",
       "1   ham                      Ok lar... Joking wif u oni...        NaN   \n",
       "2  spam  Free entry in 2 a wkly comp to win FA Cup fina...        NaN   \n",
       "3   ham  U dun say so early hor... U c already then say...        NaN   \n",
       "4   ham  Nah I don't think he goes to usf, he lives aro...        NaN   \n",
       "\n",
       "  Unnamed: 3 Unnamed: 4  \n",
       "0        NaN        NaN  \n",
       "1        NaN        NaN  \n",
       "2        NaN        NaN  \n",
       "3        NaN        NaN  \n",
       "4        NaN        NaN  "
      ]
     },
     "execution_count": 2,
     "metadata": {},
     "output_type": "execute_result"
    }
   ],
   "source": [
    "df = pd.read_csv(spam.csv',encoding='iso-8859-1')\n",
    "df.head()"
   ]
  },
  {
   "cell_type": "markdown",
   "id": "fd226852",
   "metadata": {
    "papermill": {
     "duration": 0.009277,
     "end_time": "2023-02-22T15:00:48.078638",
     "exception": false,
     "start_time": "2023-02-22T15:00:48.069361",
     "status": "completed"
    },
    "tags": []
   },
   "source": [
    "## Check the Data"
   ]
  },
  {
   "cell_type": "code",
   "execution_count": 3,
   "id": "45d69f68",
   "metadata": {
    "execution": {
     "iopub.execute_input": "2023-02-22T15:00:48.101051Z",
     "iopub.status.busy": "2023-02-22T15:00:48.100623Z",
     "iopub.status.idle": "2023-02-22T15:00:48.130319Z",
     "shell.execute_reply": "2023-02-22T15:00:48.129041Z"
    },
    "papermill": {
     "duration": 0.044584,
     "end_time": "2023-02-22T15:00:48.133115",
     "exception": false,
     "start_time": "2023-02-22T15:00:48.088531",
     "status": "completed"
    },
    "tags": []
   },
   "outputs": [
    {
     "name": "stdout",
     "output_type": "stream",
     "text": [
      "<class 'pandas.core.frame.DataFrame'>\n",
      "RangeIndex: 5572 entries, 0 to 5571\n",
      "Data columns (total 5 columns):\n",
      " #   Column      Non-Null Count  Dtype \n",
      "---  ------      --------------  ----- \n",
      " 0   v1          5572 non-null   object\n",
      " 1   v2          5572 non-null   object\n",
      " 2   Unnamed: 2  50 non-null     object\n",
      " 3   Unnamed: 3  12 non-null     object\n",
      " 4   Unnamed: 4  6 non-null      object\n",
      "dtypes: object(5)\n",
      "memory usage: 217.8+ KB\n"
     ]
    }
   ],
   "source": [
    "df.info()"
   ]
  },
  {
   "cell_type": "code",
   "execution_count": 4,
   "id": "2a4b4bad",
   "metadata": {
    "execution": {
     "iopub.execute_input": "2023-02-22T15:00:48.155696Z",
     "iopub.status.busy": "2023-02-22T15:00:48.155013Z",
     "iopub.status.idle": "2023-02-22T15:00:48.165789Z",
     "shell.execute_reply": "2023-02-22T15:00:48.164891Z"
    },
    "papermill": {
     "duration": 0.024716,
     "end_time": "2023-02-22T15:00:48.168120",
     "exception": false,
     "start_time": "2023-02-22T15:00:48.143404",
     "status": "completed"
    },
    "tags": []
   },
   "outputs": [
    {
     "data": {
      "text/plain": [
       "v1               0\n",
       "v2               0\n",
       "Unnamed: 2    5522\n",
       "Unnamed: 3    5560\n",
       "Unnamed: 4    5566\n",
       "dtype: int64"
      ]
     },
     "execution_count": 4,
     "metadata": {},
     "output_type": "execute_result"
    }
   ],
   "source": [
    "df.isnull().sum()"
   ]
  },
  {
   "cell_type": "code",
   "execution_count": 5,
   "id": "f82aa2c0",
   "metadata": {
    "execution": {
     "iopub.execute_input": "2023-02-22T15:00:48.190300Z",
     "iopub.status.busy": "2023-02-22T15:00:48.189649Z",
     "iopub.status.idle": "2023-02-22T15:00:48.217632Z",
     "shell.execute_reply": "2023-02-22T15:00:48.216302Z"
    },
    "papermill": {
     "duration": 0.042214,
     "end_time": "2023-02-22T15:00:48.220442",
     "exception": false,
     "start_time": "2023-02-22T15:00:48.178228",
     "status": "completed"
    },
    "scrolled": true,
    "tags": []
   },
   "outputs": [
    {
     "data": {
      "text/html": [
       "<div>\n",
       "<style scoped>\n",
       "    .dataframe tbody tr th:only-of-type {\n",
       "        vertical-align: middle;\n",
       "    }\n",
       "\n",
       "    .dataframe tbody tr th {\n",
       "        vertical-align: top;\n",
       "    }\n",
       "\n",
       "    .dataframe thead th {\n",
       "        text-align: right;\n",
       "    }\n",
       "</style>\n",
       "<table border=\"1\" class=\"dataframe\">\n",
       "  <thead>\n",
       "    <tr style=\"text-align: right;\">\n",
       "      <th></th>\n",
       "      <th>v1</th>\n",
       "      <th>v2</th>\n",
       "      <th>Unnamed: 2</th>\n",
       "      <th>Unnamed: 3</th>\n",
       "      <th>Unnamed: 4</th>\n",
       "    </tr>\n",
       "  </thead>\n",
       "  <tbody>\n",
       "    <tr>\n",
       "      <th>count</th>\n",
       "      <td>5572</td>\n",
       "      <td>5572</td>\n",
       "      <td>50</td>\n",
       "      <td>12</td>\n",
       "      <td>6</td>\n",
       "    </tr>\n",
       "    <tr>\n",
       "      <th>unique</th>\n",
       "      <td>2</td>\n",
       "      <td>5169</td>\n",
       "      <td>43</td>\n",
       "      <td>10</td>\n",
       "      <td>5</td>\n",
       "    </tr>\n",
       "    <tr>\n",
       "      <th>top</th>\n",
       "      <td>ham</td>\n",
       "      <td>Sorry, I'll call later</td>\n",
       "      <td>bt not his girlfrnd... G o o d n i g h t . . .@\"</td>\n",
       "      <td>MK17 92H. 450Ppw 16\"</td>\n",
       "      <td>GNT:-)\"</td>\n",
       "    </tr>\n",
       "    <tr>\n",
       "      <th>freq</th>\n",
       "      <td>4825</td>\n",
       "      <td>30</td>\n",
       "      <td>3</td>\n",
       "      <td>2</td>\n",
       "      <td>2</td>\n",
       "    </tr>\n",
       "  </tbody>\n",
       "</table>\n",
       "</div>"
      ],
      "text/plain": [
       "          v1                      v2  \\\n",
       "count   5572                    5572   \n",
       "unique     2                    5169   \n",
       "top      ham  Sorry, I'll call later   \n",
       "freq    4825                      30   \n",
       "\n",
       "                                               Unnamed: 2  \\\n",
       "count                                                  50   \n",
       "unique                                                 43   \n",
       "top      bt not his girlfrnd... G o o d n i g h t . . .@\"   \n",
       "freq                                                    3   \n",
       "\n",
       "                   Unnamed: 3 Unnamed: 4  \n",
       "count                      12          6  \n",
       "unique                     10          5  \n",
       "top      MK17 92H. 450Ppw 16\"    GNT:-)\"  \n",
       "freq                        2          2  "
      ]
     },
     "execution_count": 5,
     "metadata": {},
     "output_type": "execute_result"
    }
   ],
   "source": [
    "df.describe()"
   ]
  },
  {
   "cell_type": "markdown",
   "id": "8527fa2e",
   "metadata": {
    "papermill": {
     "duration": 0.00958,
     "end_time": "2023-02-22T15:00:48.240183",
     "exception": false,
     "start_time": "2023-02-22T15:00:48.230603",
     "status": "completed"
    },
    "tags": []
   },
   "source": [
    "## Data Preprocessing"
   ]
  },
  {
   "cell_type": "markdown",
   "id": "be152935",
   "metadata": {
    "papermill": {
     "duration": 0.009638,
     "end_time": "2023-02-22T15:00:48.260395",
     "exception": false,
     "start_time": "2023-02-22T15:00:48.250757",
     "status": "completed"
    },
    "tags": []
   },
   "source": [
    "Here, Last 3 columns are use less"
   ]
  },
  {
   "cell_type": "code",
   "execution_count": 6,
   "id": "474261af",
   "metadata": {
    "execution": {
     "iopub.execute_input": "2023-02-22T15:00:48.282557Z",
     "iopub.status.busy": "2023-02-22T15:00:48.282103Z",
     "iopub.status.idle": "2023-02-22T15:00:48.289295Z",
     "shell.execute_reply": "2023-02-22T15:00:48.287975Z"
    },
    "papermill": {
     "duration": 0.021713,
     "end_time": "2023-02-22T15:00:48.292197",
     "exception": false,
     "start_time": "2023-02-22T15:00:48.270484",
     "status": "completed"
    },
    "tags": []
   },
   "outputs": [],
   "source": [
    "del df['Unnamed: 2']\n",
    "del df['Unnamed: 3']\n",
    "del df['Unnamed: 4']"
   ]
  },
  {
   "cell_type": "code",
   "execution_count": 7,
   "id": "a2109762",
   "metadata": {
    "execution": {
     "iopub.execute_input": "2023-02-22T15:00:48.316323Z",
     "iopub.status.busy": "2023-02-22T15:00:48.315665Z",
     "iopub.status.idle": "2023-02-22T15:00:48.321474Z",
     "shell.execute_reply": "2023-02-22T15:00:48.320662Z"
    },
    "papermill": {
     "duration": 0.019751,
     "end_time": "2023-02-22T15:00:48.323799",
     "exception": false,
     "start_time": "2023-02-22T15:00:48.304048",
     "status": "completed"
    },
    "tags": []
   },
   "outputs": [],
   "source": [
    "df.rename(columns = {'v1':'Category', 'v2':'Message'}, inplace = True)"
   ]
  },
  {
   "cell_type": "code",
   "execution_count": 8,
   "id": "6aa6563f",
   "metadata": {
    "execution": {
     "iopub.execute_input": "2023-02-22T15:00:48.346307Z",
     "iopub.status.busy": "2023-02-22T15:00:48.345579Z",
     "iopub.status.idle": "2023-02-22T15:00:48.357853Z",
     "shell.execute_reply": "2023-02-22T15:00:48.356333Z"
    },
    "papermill": {
     "duration": 0.026975,
     "end_time": "2023-02-22T15:00:48.360938",
     "exception": false,
     "start_time": "2023-02-22T15:00:48.333963",
     "status": "completed"
    },
    "tags": []
   },
   "outputs": [
    {
     "data": {
      "text/plain": [
       "Category\n",
       "ham     4825\n",
       "spam     747\n",
       "Name: Message, dtype: int64"
      ]
     },
     "execution_count": 8,
     "metadata": {},
     "output_type": "execute_result"
    }
   ],
   "source": [
    "spam = df.groupby('Category')['Message'].count()\n",
    "spam"
   ]
  },
  {
   "cell_type": "code",
   "execution_count": 9,
   "id": "3f9c0e76",
   "metadata": {
    "execution": {
     "iopub.execute_input": "2023-02-22T15:00:48.384318Z",
     "iopub.status.busy": "2023-02-22T15:00:48.383857Z",
     "iopub.status.idle": "2023-02-22T15:00:48.551526Z",
     "shell.execute_reply": "2023-02-22T15:00:48.550159Z"
    },
    "papermill": {
     "duration": 0.182994,
     "end_time": "2023-02-22T15:00:48.554206",
     "exception": false,
     "start_time": "2023-02-22T15:00:48.371212",
     "status": "completed"
    },
    "tags": []
   },
   "outputs": [
    {
     "data": {
      "text/html": [
       "<div>\n",
       "<style scoped>\n",
       "    .dataframe tbody tr th:only-of-type {\n",
       "        vertical-align: middle;\n",
       "    }\n",
       "\n",
       "    .dataframe tbody tr th {\n",
       "        vertical-align: top;\n",
       "    }\n",
       "\n",
       "    .dataframe thead th {\n",
       "        text-align: right;\n",
       "    }\n",
       "</style>\n",
       "<table border=\"1\" class=\"dataframe\">\n",
       "  <thead>\n",
       "    <tr style=\"text-align: right;\">\n",
       "      <th></th>\n",
       "      <th>Category</th>\n",
       "      <th>Message</th>\n",
       "      <th>spam</th>\n",
       "    </tr>\n",
       "  </thead>\n",
       "  <tbody>\n",
       "    <tr>\n",
       "      <th>0</th>\n",
       "      <td>ham</td>\n",
       "      <td>Go until jurong point, crazy.. Available only ...</td>\n",
       "      <td>0</td>\n",
       "    </tr>\n",
       "    <tr>\n",
       "      <th>1</th>\n",
       "      <td>ham</td>\n",
       "      <td>Ok lar... Joking wif u oni...</td>\n",
       "      <td>0</td>\n",
       "    </tr>\n",
       "    <tr>\n",
       "      <th>2</th>\n",
       "      <td>spam</td>\n",
       "      <td>Free entry in 2 a wkly comp to win FA Cup fina...</td>\n",
       "      <td>1</td>\n",
       "    </tr>\n",
       "    <tr>\n",
       "      <th>3</th>\n",
       "      <td>ham</td>\n",
       "      <td>U dun say so early hor... U c already then say...</td>\n",
       "      <td>0</td>\n",
       "    </tr>\n",
       "    <tr>\n",
       "      <th>4</th>\n",
       "      <td>ham</td>\n",
       "      <td>Nah I don't think he goes to usf, he lives aro...</td>\n",
       "      <td>0</td>\n",
       "    </tr>\n",
       "  </tbody>\n",
       "</table>\n",
       "</div>"
      ],
      "text/plain": [
       "  Category                                            Message  spam\n",
       "0      ham  Go until jurong point, crazy.. Available only ...     0\n",
       "1      ham                      Ok lar... Joking wif u oni...     0\n",
       "2     spam  Free entry in 2 a wkly comp to win FA Cup fina...     1\n",
       "3      ham  U dun say so early hor... U c already then say...     0\n",
       "4      ham  Nah I don't think he goes to usf, he lives aro...     0"
      ]
     },
     "execution_count": 9,
     "metadata": {},
     "output_type": "execute_result"
    }
   ],
   "source": [
    "from sklearn import preprocessing\n",
    "\n",
    "label_encoder = preprocessing.LabelEncoder()\n",
    "df['spam'] = label_encoder.fit_transform(df['Category'])\n",
    "df.head()"
   ]
  },
  {
   "cell_type": "markdown",
   "id": "64e49041",
   "metadata": {
    "papermill": {
     "duration": 0.011116,
     "end_time": "2023-02-22T15:00:48.576202",
     "exception": false,
     "start_time": "2023-02-22T15:00:48.565086",
     "status": "completed"
    },
    "tags": []
   },
   "source": [
    "## Feature selection"
   ]
  },
  {
   "cell_type": "code",
   "execution_count": 10,
   "id": "c3168393",
   "metadata": {
    "execution": {
     "iopub.execute_input": "2023-02-22T15:00:48.598991Z",
     "iopub.status.busy": "2023-02-22T15:00:48.598556Z",
     "iopub.status.idle": "2023-02-22T15:00:48.605728Z",
     "shell.execute_reply": "2023-02-22T15:00:48.604705Z"
    },
    "papermill": {
     "duration": 0.021711,
     "end_time": "2023-02-22T15:00:48.608355",
     "exception": false,
     "start_time": "2023-02-22T15:00:48.586644",
     "status": "completed"
    },
    "tags": []
   },
   "outputs": [],
   "source": [
    "x = df['Message']\n",
    "y = df['spam']"
   ]
  },
  {
   "cell_type": "markdown",
   "id": "4bc8b356",
   "metadata": {
    "papermill": {
     "duration": 0.009911,
     "end_time": "2023-02-22T15:00:48.628657",
     "exception": false,
     "start_time": "2023-02-22T15:00:48.618746",
     "status": "completed"
    },
    "tags": []
   },
   "source": [
    "## Data splitting"
   ]
  },
  {
   "cell_type": "code",
   "execution_count": 11,
   "id": "4f44253a",
   "metadata": {
    "execution": {
     "iopub.execute_input": "2023-02-22T15:00:48.651399Z",
     "iopub.status.busy": "2023-02-22T15:00:48.650227Z",
     "iopub.status.idle": "2023-02-22T15:00:48.720141Z",
     "shell.execute_reply": "2023-02-22T15:00:48.718884Z"
    },
    "papermill": {
     "duration": 0.084135,
     "end_time": "2023-02-22T15:00:48.722946",
     "exception": false,
     "start_time": "2023-02-22T15:00:48.638811",
     "status": "completed"
    },
    "tags": []
   },
   "outputs": [],
   "source": [
    "from sklearn.model_selection import train_test_split\n",
    "x_train, x_test, y_train, y_test = train_test_split(x, y, test_size=0.3, random_state=40)"
   ]
  },
  {
   "cell_type": "code",
   "execution_count": 12,
   "id": "7a851c34",
   "metadata": {
    "execution": {
     "iopub.execute_input": "2023-02-22T15:00:48.805793Z",
     "iopub.status.busy": "2023-02-22T15:00:48.805360Z",
     "iopub.status.idle": "2023-02-22T15:00:48.823753Z",
     "shell.execute_reply": "2023-02-22T15:00:48.822689Z"
    },
    "papermill": {
     "duration": 0.033195,
     "end_time": "2023-02-22T15:00:48.826404",
     "exception": false,
     "start_time": "2023-02-22T15:00:48.793209",
     "status": "completed"
    },
    "tags": []
   },
   "outputs": [],
   "source": [
    "from sklearn.feature_extraction.text import CountVectorizer\n",
    "v = CountVectorizer()"
   ]
  },
  {
   "cell_type": "code",
   "execution_count": 13,
   "id": "cdc32fe6",
   "metadata": {
    "execution": {
     "iopub.execute_input": "2023-02-22T15:00:48.849714Z",
     "iopub.status.busy": "2023-02-22T15:00:48.849251Z",
     "iopub.status.idle": "2023-02-22T15:00:49.038157Z",
     "shell.execute_reply": "2023-02-22T15:00:49.036535Z"
    },
    "papermill": {
     "duration": 0.204089,
     "end_time": "2023-02-22T15:00:49.041115",
     "exception": false,
     "start_time": "2023-02-22T15:00:48.837026",
     "status": "completed"
    },
    "tags": []
   },
   "outputs": [
    {
     "data": {
      "text/plain": [
       "array([[0, 0, 0, ..., 0, 0, 0],\n",
       "       [0, 0, 0, ..., 0, 0, 0],\n",
       "       [0, 0, 0, ..., 0, 0, 0]])"
      ]
     },
     "execution_count": 13,
     "metadata": {},
     "output_type": "execute_result"
    }
   ],
   "source": [
    "# Email converted into number matrix\n",
    "\n",
    "x_train_count = v.fit_transform(x_train.values)\n",
    "x_train_count.toarray()[:3]"
   ]
  },
  {
   "cell_type": "markdown",
   "id": "50de8bdc",
   "metadata": {
    "papermill": {
     "duration": 0.010675,
     "end_time": "2023-02-22T15:00:49.062379",
     "exception": false,
     "start_time": "2023-02-22T15:00:49.051704",
     "status": "completed"
    },
    "tags": []
   },
   "source": [
    "Gaussian Naive Bayes: Assumes that the features (predictor variables) in the data follow a Gaussian (normal) distribution. This variant is suitable for continuous or real-valued data.\n",
    "\n",
    "Multinomial Naive Bayes: Assumes that the features represent discrete counts, such as word frequencies in a text classification task. This variant is suitable for data with a limited number of possible values.\n",
    "\n",
    "Bernoulli Naive Bayes: A special case of Multinomial Naive Bayes that assumes the features are binary (0 or 1), such as the presence or absence of a word in a document.\n",
    "\n",
    "Categorical Naive Bayes: An extension of Bernoulli Naive Bayes that allows for features with more than two possible values, such as movie ratings (1-5 stars).\n",
    "\n",
    "Out-of-core Naive Bayes: A modification of the Naive Bayes algorithm that can handle large datasets that do not fit in memory by processing the data in chunks or batches. This can be achieved by using a technique called stochastic gradient descent to update the model parameters incrementally as new data is processed."
   ]
  },
  {
   "cell_type": "markdown",
   "id": "420d80f2",
   "metadata": {
    "papermill": {
     "duration": 0.010385,
     "end_time": "2023-02-22T15:00:49.083300",
     "exception": false,
     "start_time": "2023-02-22T15:00:49.072915",
     "status": "completed"
    },
    "tags": []
   },
   "source": [
    "## Model selection and implimentation (MultinomialNB)"
   ]
  },
  {
   "cell_type": "code",
   "execution_count": 14,
   "id": "c79a51ea",
   "metadata": {
    "execution": {
     "iopub.execute_input": "2023-02-22T15:00:49.106393Z",
     "iopub.status.busy": "2023-02-22T15:00:49.105457Z",
     "iopub.status.idle": "2023-02-22T15:00:49.113613Z",
     "shell.execute_reply": "2023-02-22T15:00:49.112576Z"
    },
    "papermill": {
     "duration": 0.022426,
     "end_time": "2023-02-22T15:00:49.116224",
     "exception": false,
     "start_time": "2023-02-22T15:00:49.093798",
     "status": "completed"
    },
    "tags": []
   },
   "outputs": [],
   "source": [
    "from sklearn.naive_bayes import MultinomialNB\n",
    "model = MultinomialNB()"
   ]
  },
  {
   "cell_type": "markdown",
   "id": "bd81c5ef",
   "metadata": {
    "papermill": {
     "duration": 0.010092,
     "end_time": "2023-02-22T15:00:49.136994",
     "exception": false,
     "start_time": "2023-02-22T15:00:49.126902",
     "status": "completed"
    },
    "tags": []
   },
   "source": [
    "## Model training"
   ]
  },
  {
   "cell_type": "code",
   "execution_count": 15,
   "id": "bce66fd3",
   "metadata": {
    "execution": {
     "iopub.execute_input": "2023-02-22T15:00:49.160843Z",
     "iopub.status.busy": "2023-02-22T15:00:49.159739Z",
     "iopub.status.idle": "2023-02-22T15:00:49.174427Z",
     "shell.execute_reply": "2023-02-22T15:00:49.172723Z"
    },
    "papermill": {
     "duration": 0.02961,
     "end_time": "2023-02-22T15:00:49.177559",
     "exception": false,
     "start_time": "2023-02-22T15:00:49.147949",
     "status": "completed"
    },
    "tags": []
   },
   "outputs": [
    {
     "data": {
      "text/plain": [
       "MultinomialNB()"
      ]
     },
     "execution_count": 15,
     "metadata": {},
     "output_type": "execute_result"
    }
   ],
   "source": [
    "model.fit(x_train_count, y_train)"
   ]
  },
  {
   "cell_type": "markdown",
   "id": "8f3e4538",
   "metadata": {
    "papermill": {
     "duration": 0.010955,
     "end_time": "2023-02-22T15:00:49.199759",
     "exception": false,
     "start_time": "2023-02-22T15:00:49.188804",
     "status": "completed"
    },
    "tags": []
   },
   "source": [
    "## Model evaluations"
   ]
  },
  {
   "cell_type": "code",
   "execution_count": 16,
   "id": "3eb8b578",
   "metadata": {
    "execution": {
     "iopub.execute_input": "2023-02-22T15:00:49.223508Z",
     "iopub.status.busy": "2023-02-22T15:00:49.223032Z",
     "iopub.status.idle": "2023-02-22T15:00:49.231530Z",
     "shell.execute_reply": "2023-02-22T15:00:49.230352Z"
    },
    "papermill": {
     "duration": 0.022996,
     "end_time": "2023-02-22T15:00:49.233948",
     "exception": false,
     "start_time": "2023-02-22T15:00:49.210952",
     "status": "completed"
    },
    "tags": []
   },
   "outputs": [
    {
     "data": {
      "text/plain": [
       "array([0, 1])"
      ]
     },
     "execution_count": 16,
     "metadata": {},
     "output_type": "execute_result"
    }
   ],
   "source": [
    "emails = [\n",
    "    'Hey mohan, can we get together to watch footbal game tomorrow?',\n",
    "    'Upto 20% discount on parking, exclusive offer just for you. Dont miss this reward!'\n",
    "]\n",
    "emails_count = v.transform(emails)\n",
    "model.predict(emails_count)"
   ]
  },
  {
   "cell_type": "code",
   "execution_count": 17,
   "id": "31b87866",
   "metadata": {
    "execution": {
     "iopub.execute_input": "2023-02-22T15:00:49.258391Z",
     "iopub.status.busy": "2023-02-22T15:00:49.257664Z",
     "iopub.status.idle": "2023-02-22T15:00:49.293654Z",
     "shell.execute_reply": "2023-02-22T15:00:49.292361Z"
    },
    "papermill": {
     "duration": 0.051367,
     "end_time": "2023-02-22T15:00:49.296562",
     "exception": false,
     "start_time": "2023-02-22T15:00:49.245195",
     "status": "completed"
    },
    "tags": []
   },
   "outputs": [
    {
     "data": {
      "text/plain": [
       "array([0, 1, 0, ..., 0, 1, 0])"
      ]
     },
     "execution_count": 17,
     "metadata": {},
     "output_type": "execute_result"
    }
   ],
   "source": [
    "x_test_count = v.transform(x_test)\n",
    "model.predict(x_test_count)"
   ]
  },
  {
   "cell_type": "code",
   "execution_count": 18,
   "id": "781185d4",
   "metadata": {
    "execution": {
     "iopub.execute_input": "2023-02-22T15:00:49.320739Z",
     "iopub.status.busy": "2023-02-22T15:00:49.319444Z",
     "iopub.status.idle": "2023-02-22T15:00:49.329745Z",
     "shell.execute_reply": "2023-02-22T15:00:49.328670Z"
    },
    "papermill": {
     "duration": 0.02511,
     "end_time": "2023-02-22T15:00:49.332390",
     "exception": false,
     "start_time": "2023-02-22T15:00:49.307280",
     "status": "completed"
    },
    "tags": []
   },
   "outputs": [
    {
     "data": {
      "text/plain": [
       "0.986244019138756"
      ]
     },
     "execution_count": 18,
     "metadata": {},
     "output_type": "execute_result"
    }
   ],
   "source": [
    "model.score(x_test_count, y_test)"
   ]
  },
  {
   "cell_type": "code",
   "execution_count": 19,
   "id": "ec6e8192",
   "metadata": {
    "execution": {
     "iopub.execute_input": "2023-02-22T15:00:49.357645Z",
     "iopub.status.busy": "2023-02-22T15:00:49.356458Z",
     "iopub.status.idle": "2023-02-22T15:00:49.362347Z",
     "shell.execute_reply": "2023-02-22T15:00:49.361350Z"
    },
    "papermill": {
     "duration": 0.020856,
     "end_time": "2023-02-22T15:00:49.364974",
     "exception": false,
     "start_time": "2023-02-22T15:00:49.344118",
     "status": "completed"
    },
    "tags": []
   },
   "outputs": [],
   "source": [
    "pred = model.predict(x_test_count)"
   ]
  },
  {
   "cell_type": "code",
   "execution_count": 20,
   "id": "e3152adb",
   "metadata": {
    "execution": {
     "iopub.execute_input": "2023-02-22T15:00:49.390017Z",
     "iopub.status.busy": "2023-02-22T15:00:49.389214Z",
     "iopub.status.idle": "2023-02-22T15:00:49.400860Z",
     "shell.execute_reply": "2023-02-22T15:00:49.399483Z"
    },
    "papermill": {
     "duration": 0.027668,
     "end_time": "2023-02-22T15:00:49.403640",
     "exception": false,
     "start_time": "2023-02-22T15:00:49.375972",
     "status": "completed"
    },
    "tags": []
   },
   "outputs": [
    {
     "data": {
      "text/plain": [
       "array([[1451,    6],\n",
       "       [  17,  198]])"
      ]
     },
     "execution_count": 20,
     "metadata": {},
     "output_type": "execute_result"
    }
   ],
   "source": [
    "from sklearn.metrics import confusion_matrix, classification_report\n",
    "\n",
    "cm = confusion_matrix(y_test, pred)\n",
    "cm"
   ]
  },
  {
   "cell_type": "markdown",
   "id": "1bfc366d",
   "metadata": {
    "papermill": {
     "duration": 0.01088,
     "end_time": "2023-02-22T15:00:49.426594",
     "exception": false,
     "start_time": "2023-02-22T15:00:49.415714",
     "status": "completed"
    },
    "tags": []
   },
   "source": [
    "### Sklearn Pipeline"
   ]
  },
  {
   "cell_type": "markdown",
   "id": "0991d1e1",
   "metadata": {
    "papermill": {
     "duration": 0.010829,
     "end_time": "2023-02-22T15:00:49.449030",
     "exception": false,
     "start_time": "2023-02-22T15:00:49.438201",
     "status": "completed"
    },
    "tags": []
   },
   "source": [
    "Scikit-learn (sklearn) Pipeline is a tool for chaining multiple data processing and modeling steps into a single object that can be used for training and evaluating a machine learning model. The purpose of sklearn Pipeline is to simplify the code for machine learning workflows, improve code reusability, and reduce the risk of data leakage during modeling.\n",
    "\n",
    "The pipeline object takes a sequence of data processing and modeling steps, where each step is a tuple containing a name and an instance of a data processing or modeling class. The pipeline applies each step in the sequence to the data, transforming the data at each step, and passing the transformed data to the next step. This allows for a streamlined workflow where data transformations and model fitting can be done in a single step, without needing to manually apply each transformation separately."
   ]
  },
  {
   "cell_type": "markdown",
   "id": "1dd33fd6",
   "metadata": {
    "papermill": {
     "duration": 0.010592,
     "end_time": "2023-02-22T15:00:49.471257",
     "exception": false,
     "start_time": "2023-02-22T15:00:49.460665",
     "status": "completed"
    },
    "tags": []
   },
   "source": [
    "Furthermore, sklearn Pipeline provides several benefits, including:\n",
    "\n",
    "**Code Reusability**: Once a pipeline has been defined, it can be reused with new data without needing to rewrite the entire processing and modeling pipeline.\n",
    "\n",
    "**Parameter Tuning**: Sklearn pipeline allows us to perform grid search or randomized search over the entire pipeline, including all the data processing and modeling steps, to optimize the hyperparameters of the pipeline.\n",
    "\n",
    "**Data Leakage Prevention**: The pipeline applies all the transformations to the training data, then fits the model to the transformed data. This prevents data leakage, which is the phenomenon where information from the test data leaks into the training process, leading to overfitting and poor generalization performance.\n",
    "\n",
    "    Overall, sklearn Pipeline is a powerful tool for building complex machine learning workflows in a simple and efficient manner, allowing data scientists to focus on more important tasks, such as feature engineering and model selection."
   ]
  },
  {
   "cell_type": "code",
   "execution_count": 21,
   "id": "2761d4c1",
   "metadata": {
    "execution": {
     "iopub.execute_input": "2023-02-22T15:00:49.496396Z",
     "iopub.status.busy": "2023-02-22T15:00:49.495992Z",
     "iopub.status.idle": "2023-02-22T15:00:49.503795Z",
     "shell.execute_reply": "2023-02-22T15:00:49.502872Z"
    },
    "papermill": {
     "duration": 0.023144,
     "end_time": "2023-02-22T15:00:49.506090",
     "exception": false,
     "start_time": "2023-02-22T15:00:49.482946",
     "status": "completed"
    },
    "tags": []
   },
   "outputs": [],
   "source": [
    "from sklearn.pipeline import Pipeline\n",
    "\n",
    "clf = Pipeline([\n",
    "    ('Vectorizer' , CountVectorizer()),\n",
    "    ('nb' , MultinomialNB())\n",
    "])\n",
    "\n"
   ]
  },
  {
   "cell_type": "code",
   "execution_count": 22,
   "id": "5114418f",
   "metadata": {
    "execution": {
     "iopub.execute_input": "2023-02-22T15:00:49.530707Z",
     "iopub.status.busy": "2023-02-22T15:00:49.530212Z",
     "iopub.status.idle": "2023-02-22T15:00:49.619680Z",
     "shell.execute_reply": "2023-02-22T15:00:49.618419Z"
    },
    "papermill": {
     "duration": 0.104845,
     "end_time": "2023-02-22T15:00:49.622320",
     "exception": false,
     "start_time": "2023-02-22T15:00:49.517475",
     "status": "completed"
    },
    "tags": []
   },
   "outputs": [
    {
     "data": {
      "text/plain": [
       "Pipeline(steps=[('Vectorizer', CountVectorizer()), ('nb', MultinomialNB())])"
      ]
     },
     "execution_count": 22,
     "metadata": {},
     "output_type": "execute_result"
    }
   ],
   "source": [
    "clf.fit(x_train, y_train)"
   ]
  },
  {
   "cell_type": "code",
   "execution_count": 23,
   "id": "2eb7f804",
   "metadata": {
    "execution": {
     "iopub.execute_input": "2023-02-22T15:00:49.648763Z",
     "iopub.status.busy": "2023-02-22T15:00:49.648212Z",
     "iopub.status.idle": "2023-02-22T15:00:49.684797Z",
     "shell.execute_reply": "2023-02-22T15:00:49.683676Z"
    },
    "papermill": {
     "duration": 0.053319,
     "end_time": "2023-02-22T15:00:49.687315",
     "exception": false,
     "start_time": "2023-02-22T15:00:49.633996",
     "status": "completed"
    },
    "tags": []
   },
   "outputs": [
    {
     "data": {
      "text/plain": [
       "0.986244019138756"
      ]
     },
     "execution_count": 23,
     "metadata": {},
     "output_type": "execute_result"
    }
   ],
   "source": [
    "clf.score(x_test, y_test)"
   ]
  },
  {
   "cell_type": "code",
   "execution_count": 24,
   "id": "14da37b4",
   "metadata": {
    "execution": {
     "iopub.execute_input": "2023-02-22T15:00:49.713887Z",
     "iopub.status.busy": "2023-02-22T15:00:49.712700Z",
     "iopub.status.idle": "2023-02-22T15:00:49.746504Z",
     "shell.execute_reply": "2023-02-22T15:00:49.744848Z"
    },
    "papermill": {
     "duration": 0.050826,
     "end_time": "2023-02-22T15:00:49.749521",
     "exception": false,
     "start_time": "2023-02-22T15:00:49.698695",
     "status": "completed"
    },
    "tags": []
   },
   "outputs": [],
   "source": [
    "pred2 = clf.predict(x_test)"
   ]
  },
  {
   "cell_type": "code",
   "execution_count": 25,
   "id": "d7bd1c65",
   "metadata": {
    "execution": {
     "iopub.execute_input": "2023-02-22T15:00:49.773850Z",
     "iopub.status.busy": "2023-02-22T15:00:49.773388Z",
     "iopub.status.idle": "2023-02-22T15:00:49.782928Z",
     "shell.execute_reply": "2023-02-22T15:00:49.781732Z"
    },
    "papermill": {
     "duration": 0.024671,
     "end_time": "2023-02-22T15:00:49.785527",
     "exception": false,
     "start_time": "2023-02-22T15:00:49.760856",
     "status": "completed"
    },
    "tags": []
   },
   "outputs": [
    {
     "data": {
      "text/plain": [
       "array([[1451,    6],\n",
       "       [  17,  198]])"
      ]
     },
     "execution_count": 25,
     "metadata": {},
     "output_type": "execute_result"
    }
   ],
   "source": [
    "cm2 = confusion_matrix(y_test, pred2)\n",
    "cm2"
   ]
  }
 ],
 "metadata": {
  "kernelspec": {
   "display_name": "Python 3 (ipykernel)",
   "language": "python",
   "name": "python3"
  },
  "language_info": {
   "codemirror_mode": {
    "name": "ipython",
    "version": 3
   },
   "file_extension": ".py",
   "mimetype": "text/x-python",
   "name": "python",
   "nbconvert_exporter": "python",
   "pygments_lexer": "ipython3",
   "version": "3.9.13"
  },
  "papermill": {
   "default_parameters": {},
   "duration": 13.804505,
   "end_time": "2023-02-22T15:00:50.620360",
   "environment_variables": {},
   "exception": null,
   "input_path": "__notebook__.ipynb",
   "output_path": "__notebook__.ipynb",
   "parameters": {},
   "start_time": "2023-02-22T15:00:36.815855",
   "version": "2.3.4"
  }
 },
 "nbformat": 4,
 "nbformat_minor": 5
}
